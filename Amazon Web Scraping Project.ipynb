{
 "cells": [
  {
   "cell_type": "code",
   "execution_count": 1,
   "id": "e31a80f9",
   "metadata": {},
   "outputs": [],
   "source": [
    "#importing libraries\n",
    "\n",
    "from bs4 import BeautifulSoup\n",
    "import requests\n",
    "import smtplib\n",
    "import time\n",
    "import datetime\n"
   ]
  },
  {
   "cell_type": "code",
   "execution_count": 2,
   "id": "64c86626",
   "metadata": {},
   "outputs": [
    {
     "name": "stdout",
     "output_type": "stream",
     "text": [
      "\n",
      "                   Puma Emergence Softfoam+ Men's Running Shoes\n",
      "                  \n"
     ]
    }
   ],
   "source": [
    "# connect to website \n",
    "\n",
    "URL = 'https://www.amazon.in/Puma-Emergence-Peacoat-Running-4060978917362/dp/B07DBZRDQJ/ref=sr_1_10?pf_rd_i=1983518031&pf_rd_m=A1VBAL9TL5WCBF&pf_rd_p=a441fd45-8e5e-4437-876b-b12dfaf212c5&pf_rd_r=D47E13Q2YVAEQ4KTQ1DF&pf_rd_s=merchandised-search-6&pf_rd_t=30901&qid=1649889660&refinements=p_n_feature_nineteen_browse-bin%3A11301363031%2Cp_n_pct-off-with-tax%3A50%2Cp_89%3APuma&rnid=3837712031&s=shoes&sr=1-10'\n",
    "\n",
    "headers = {\"User-Agent\": \"Mozilla/5.0 (Windows NT 10.0; Win64; x64) AppleWebKit/537.36 (KHTML, like Gecko) Chrome/78.0.3904.108 Safari/537.36\", \"Accept-Encoding\":\"gzip, deflate\", \"Accept\":\"text/html,application/xhtml+xml,application/xml;q=0.9,*/*;q=0.8\", \"DNT\":\"1\",\"Connection\":\"close\", \"Upgrade-Insecure-Requests\":\"1\"}\n",
    "\n",
    "page = requests.get(URL, headers=headers)\n",
    "\n",
    "soup1 = BeautifulSoup(page.content, \"html.parser\")\n",
    "\n",
    "soup2 = BeautifulSoup(soup1.prettify(),'html.parser')\n",
    "\n",
    "title = soup2.find(id='productTitle').get_text()\n",
    "\n",
    "price = soup2.find(id='corePrice_desktop').get_text()\n",
    "\n",
    "print(title)\n",
    "#print(price)\n"
   ]
  },
  {
   "cell_type": "code",
   "execution_count": 3,
   "id": "80b4813d",
   "metadata": {},
   "outputs": [
    {
     "name": "stdout",
     "output_type": "stream",
     "text": [
      "Puma Emergence Softfoam+ Men's Running Shoes\n",
      "2,749.00\n"
     ]
    }
   ],
   "source": [
    "price = price.strip()[51:59]\n",
    "title = title.strip()\n",
    "\n",
    "print(title)\n",
    "print(price)"
   ]
  },
  {
   "cell_type": "code",
   "execution_count": 4,
   "id": "11cfe3d8",
   "metadata": {},
   "outputs": [
    {
     "name": "stdout",
     "output_type": "stream",
     "text": [
      "2022-04-14\n"
     ]
    }
   ],
   "source": [
    "today = datetime.date.today()\n",
    "\n",
    "print(today)"
   ]
  },
  {
   "cell_type": "code",
   "execution_count": 5,
   "id": "d6d1a989",
   "metadata": {},
   "outputs": [],
   "source": [
    "# import data to a CSV file\n",
    "\n",
    "import csv\n",
    "\n",
    "header = ['Title','Price','today']\n",
    "data = [title, price, today]\n",
    "\n",
    "# adding data\n",
    "\n",
    "#with open('AmazonWebData.csv','w',newline='',encoding='UTF-8') as f:\n",
    "#    writer = csv.writer(f)\n",
    "#    writer.writerow(header)\n",
    "#    writer.writerow(data)\n",
    "    "
   ]
  },
  {
   "cell_type": "code",
   "execution_count": 6,
   "id": "4a2a35d6",
   "metadata": {},
   "outputs": [
    {
     "name": "stdout",
     "output_type": "stream",
     "text": [
      "                                          Title     Price       today\n",
      "0  Puma Emergence Softfoam+ Men's Running Shoes  2,749.00  2022-04-14\n",
      "1  Puma Emergence Softfoam+ Men's Running Shoes  2,749.00  2022-04-14\n",
      "2  Puma Emergence Softfoam+ Men's Running Shoes  2,749.00  2022-04-14\n",
      "3  Puma Emergence Softfoam+ Men's Running Shoes  2,749.00  2022-04-14\n",
      "4  Puma Emergence Softfoam+ Men's Running Shoes  2,749.00  2022-04-14\n",
      "5  Puma Emergence Softfoam+ Men's Running Shoes  2,749.00  2022-04-14\n",
      "6  Puma Emergence Softfoam+ Men's Running Shoes  2,749.00  2022-04-14\n",
      "7  Puma Emergence Softfoam+ Men's Running Shoes  2,749.00  2022-04-14\n"
     ]
    }
   ],
   "source": [
    "import pandas as pd\n",
    "\n",
    "df = pd.read_csv(r'D:\\Users\\balsin\\AmazonWebData.csv')\n",
    "\n",
    "print(df)"
   ]
  },
  {
   "cell_type": "code",
   "execution_count": 7,
   "id": "2ee2b8fd",
   "metadata": {},
   "outputs": [],
   "source": [
    "# appending the data \n",
    "\n",
    "#with open('AmazonWebData.csv','a+',newline='',encoding='UTF-8') as f:\n",
    "#    writer = csv.writer(f)\n",
    "#    writer.writerow(data)\n",
    "    "
   ]
  },
  {
   "cell_type": "code",
   "execution_count": 8,
   "id": "3bcb9f6e",
   "metadata": {},
   "outputs": [],
   "source": [
    "# Automating the process\n",
    "\n",
    "def check_price():\n",
    "    URL = 'https://www.amazon.in/Puma-Emergence-Peacoat-Running-4060978917362/dp/B07DBZRDQJ/ref=sr_1_10?pf_rd_i=1983518031&pf_rd_m=A1VBAL9TL5WCBF&pf_rd_p=a441fd45-8e5e-4437-876b-b12dfaf212c5&pf_rd_r=D47E13Q2YVAEQ4KTQ1DF&pf_rd_s=merchandised-search-6&pf_rd_t=30901&qid=1649889660&refinements=p_n_feature_nineteen_browse-bin%3A11301363031%2Cp_n_pct-off-with-tax%3A50%2Cp_89%3APuma&rnid=3837712031&s=shoes&sr=1-10'\n",
    "\n",
    "    headers = {\"User-Agent\": \"Mozilla/5.0 (Windows NT 10.0; Win64; x64) AppleWebKit/537.36 (KHTML, like Gecko) Chrome/78.0.3904.108 Safari/537.36\", \"Accept-Encoding\":\"gzip, deflate\", \"Accept\":\"text/html,application/xhtml+xml,application/xml;q=0.9,*/*;q=0.8\", \"DNT\":\"1\",\"Connection\":\"close\", \"Upgrade-Insecure-Requests\":\"1\"}\n",
    "\n",
    "    page = requests.get(URL, headers=headers)\n",
    "\n",
    "    soup1 = BeautifulSoup(page.content, \"html.parser\")\n",
    "\n",
    "    soup2 = BeautifulSoup(soup1.prettify(),'html.parser')\n",
    "\n",
    "    title = soup2.find(id='productTitle').get_text()\n",
    "\n",
    "    price = soup2.find(id='corePrice_desktop').get_text()\n",
    "\n",
    "    price = price.strip()[51:59]\n",
    "    title = title.strip()\n",
    "\n",
    "    today = datetime.date.today()\n",
    "\n",
    "    header = ['Title','Price','today']\n",
    "    data = [title, price, today]\n",
    "\n",
    "    with open('AmazonWebData.csv','a+',newline='',encoding='UTF-8') as f:\n",
    "        writer = csv.writer(f)\n",
    "        writer.writerow(data)\n",
    "\n",
    "        "
   ]
  },
  {
   "cell_type": "code",
   "execution_count": null,
   "id": "3c23b32e",
   "metadata": {},
   "outputs": [],
   "source": [
    "while(True):\n",
    "    check_price()\n",
    "    time.sleep(86400)\n",
    "    "
   ]
  },
  {
   "cell_type": "code",
   "execution_count": null,
   "id": "caa854bf",
   "metadata": {},
   "outputs": [],
   "source": [
    "df = pd.read_csv(r'D:\\Users\\balsin\\AmazonWebData.csv')\n",
    "\n",
    "print(df)"
   ]
  },
  {
   "cell_type": "code",
   "execution_count": null,
   "id": "c298aa48",
   "metadata": {},
   "outputs": [],
   "source": []
  }
 ],
 "metadata": {
  "kernelspec": {
   "display_name": "Python 3 (ipykernel)",
   "language": "python",
   "name": "python3"
  },
  "language_info": {
   "codemirror_mode": {
    "name": "ipython",
    "version": 3
   },
   "file_extension": ".py",
   "mimetype": "text/x-python",
   "name": "python",
   "nbconvert_exporter": "python",
   "pygments_lexer": "ipython3",
   "version": "3.9.7"
  }
 },
 "nbformat": 4,
 "nbformat_minor": 5
}
